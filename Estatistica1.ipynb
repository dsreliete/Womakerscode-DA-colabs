{
  "nbformat": 4,
  "nbformat_minor": 0,
  "metadata": {
    "colab": {
      "provenance": [],
      "authorship_tag": "ABX9TyMTjPwbF71ghH1+bDu6xedZ",
      "include_colab_link": true
    },
    "kernelspec": {
      "name": "python3",
      "display_name": "Python 3"
    },
    "language_info": {
      "name": "python"
    }
  },
  "cells": [
    {
      "cell_type": "markdown",
      "metadata": {
        "id": "view-in-github",
        "colab_type": "text"
      },
      "source": [
        "<a href=\"https://colab.research.google.com/github/dsreliete/Womakerscode-DA-colabs/blob/main/Estatistica1.ipynb\" target=\"_parent\"><img src=\"https://colab.research.google.com/assets/colab-badge.svg\" alt=\"Open In Colab\"/></a>"
      ]
    },
    {
      "cell_type": "code",
      "execution_count": 1,
      "metadata": {
        "id": "4cNCZtNHF_6e"
      },
      "outputs": [],
      "source": [
        "import pandas as pd\n",
        "import matplotlib.pyplot as plt\n",
        "import seaborn as sns\n",
        "import numpy as np\n",
        "from scipy import stats"
      ]
    },
    {
      "cell_type": "code",
      "source": [
        "data = {\n",
        "    'Age': [23, 35, 45, 23, 52, 46, 38, 29, 39, 41, 54, 44, 28, 30, 33, 27, 42, 36, 50, 40],\n",
        "    'Annual Income': [55000, 46000, 62000, 45000, 80000, 75000, 70000, 48000, 52000, 65000, 85000, 69000, 51000, 49000, 63000, 47000, 73000, 66000, 71000, 68000],\n",
        "    'Spending Score': [42, 60, 75, 58, 85, 65, 70, 52, 68, 64, 83, 71, 55, 61, 72, 57, 74, 63, 81, 69],\n",
        "    'Campaign': [0, 1, 1, 0, 1, 0, 1, 1, 0, 1, 0, 1, 0, 0, 1, 1, 0, 1, 1, 0]\n",
        "}\n",
        "df = pd.DataFrame(data)"
      ],
      "metadata": {
        "id": "we619dBdGBDH"
      },
      "execution_count": 2,
      "outputs": []
    }
  ]
}