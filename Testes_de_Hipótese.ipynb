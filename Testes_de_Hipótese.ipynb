{
  "nbformat": 4,
  "nbformat_minor": 0,
  "metadata": {
    "colab": {
      "provenance": [],
      "include_colab_link": true
    },
    "kernelspec": {
      "name": "python3",
      "display_name": "Python 3"
    },
    "language_info": {
      "name": "python"
    }
  },
  "cells": [
    {
      "cell_type": "markdown",
      "metadata": {
        "id": "view-in-github",
        "colab_type": "text"
      },
      "source": [
        "<a href=\"https://colab.research.google.com/github/dsreliete/Womakerscode-DA-colabs/blob/main/Testes_de_Hipo%CC%81tese.ipynb\" target=\"_parent\"><img src=\"https://colab.research.google.com/assets/colab-badge.svg\" alt=\"Open In Colab\"/></a>"
      ]
    },
    {
      "cell_type": "markdown",
      "source": [
        "# TESTE DE HIPÓTESES EM PYTHON\n",
        "\n",
        "Bootcamp data analytics Womakerscode\n",
        "\n",
        "O objetivo deste notebook é auxiliar o entendimento em como realizar testes: Qui Quadrado, ANOVA, KS e QQ Plots, conteudos abordados nas aulas do bootcamp"
      ],
      "metadata": {
        "id": "06W78RBuDrw4"
      }
    },
    {
      "cell_type": "code",
      "execution_count": null,
      "metadata": {
        "id": "E7k1GwIsDkeC"
      },
      "outputs": [],
      "source": [
        "#### importando os pacotes\n",
        "import pandas as pd\n",
        "import numpy as np\n",
        "import seaborn as sns\n",
        "import matplotlib.pyplot as plt"
      ]
    },
    {
      "cell_type": "markdown",
      "source": [
        "## TESTE QUI-QUADRADO PARA ASSOCIAÇÕES DE VARIÁVEIS CATEGÓRICAS"
      ],
      "metadata": {
        "id": "ZJetC14HFgxO"
      }
    },
    {
      "cell_type": "code",
      "source": [
        "from tabulate import tabulate ## para fazer tabelas\n",
        "\n",
        "### gerando uma tabela t como exmeplo de visualizacao\n",
        "t = [['Male', 'Car'],\n",
        "         ['Male', 'Car'],\n",
        "         ['Male', 'Motorcycle'],\n",
        "         ['Female', 'Car'],\n",
        "         ['Female', 'Bike']]\n",
        "\n",
        "### exemplo da funcao tabulate\n",
        "print(tabulate(t, headers= ['Gender','Vehicle'],\n",
        "               tablefmt = 'fancy_grid',\n",
        "               stralign='center',\n",
        "               numalign='center',\n",
        "               floatfmt=\".2f\"))"
      ],
      "metadata": {
        "colab": {
          "base_uri": "https://localhost:8080/"
        },
        "id": "7xxyXKHIFkBP",
        "outputId": "bffd7108-c675-4218-b5e5-224df3747dcb"
      },
      "execution_count": null,
      "outputs": [
        {
          "output_type": "stream",
          "name": "stdout",
          "text": [
            "╒══════════╤════════════╕\n",
            "│  Gender  │  Vehicle   │\n",
            "╞══════════╪════════════╡\n",
            "│   Male   │    Car     │\n",
            "├──────────┼────────────┤\n",
            "│   Male   │    Car     │\n",
            "├──────────┼────────────┤\n",
            "│   Male   │ Motorcycle │\n",
            "├──────────┼────────────┤\n",
            "│  Female  │    Car     │\n",
            "├──────────┼────────────┤\n",
            "│  Female  │    Bike    │\n",
            "╘══════════╧════════════╛\n"
          ]
        }
      ]
    },
    {
      "cell_type": "markdown",
      "source": [
        "### 1. Criando a tabela de contingencia"
      ],
      "metadata": {
        "id": "GPxdNdiOFlEK"
      }
    },
    {
      "cell_type": "code",
      "source": [
        "#### criando uma tabela de contingencia como exmeplo\n",
        "print(tabulate([['Male',9,18,28], ['Female',5,8,15]],\n",
        "               headers = ['Car', 'Motorcycle', 'Bike'],\n",
        "               tablefmt = 'fancy_grid',stralign='center',\n",
        "               numalign='center',\n",
        "               floatfmt=\".2f\"))"
      ],
      "metadata": {
        "colab": {
          "base_uri": "https://localhost:8080/"
        },
        "id": "JGeFc8nTFvX3",
        "outputId": "819ba551-66b9-4155-caaa-cceb026bfebd"
      },
      "execution_count": null,
      "outputs": [
        {
          "output_type": "stream",
          "name": "stdout",
          "text": [
            "╒════════╤═══════╤══════════════╤════════╕\n",
            "│        │  Car  │  Motorcycle  │  Bike  │\n",
            "╞════════╪═══════╪══════════════╪════════╡\n",
            "│  Male  │   9   │      18      │   28   │\n",
            "├────────┼───────┼──────────────┼────────┤\n",
            "│ Female │   5   │      8       │   15   │\n",
            "╘════════╧═══════╧══════════════╧════════╛\n"
          ]
        }
      ]
    },
    {
      "cell_type": "code",
      "source": [
        "#plot da tabela com cores\n",
        "table = [[9, 18, 28],\n",
        "         [5,  8,  15]]\n",
        "plt.figure(figsize=(12,8))\n",
        "x_axis_labels = ['Car', 'Motorcycle','Bike']\n",
        "y_axis_labels = ['Male', 'Female']\n",
        "sns.heatmap(table, annot=True, cmap=\"YlGnBu\",xticklabels=x_axis_labels, yticklabels=y_axis_labels)"
      ],
      "metadata": {
        "colab": {
          "base_uri": "https://localhost:8080/",
          "height": 694
        },
        "id": "9EVRN63xFvqA",
        "outputId": "b78849eb-2b00-43f7-c9f0-9e21b972dc54"
      },
      "execution_count": null,
      "outputs": [
        {
          "output_type": "execute_result",
          "data": {
            "text/plain": [
              "<Axes: >"
            ]
          },
          "metadata": {},
          "execution_count": 4
        },
        {
          "output_type": "display_data",
          "data": {
            "text/plain": [
              "<Figure size 1200x800 with 2 Axes>"
            ],
            "image/png": "[encoded data removed]"
          },
          "metadata": {}
        }
      ]
    },
    {
      "cell_type": "markdown",
      "source": [
        "### 2. Formulando as hipóteses\n",
        "\n",
        "H0 : As variaveis nao tem grau de associacao\n",
        "HA : As variáveis possuem grau de associação.\n",
        "\n",
        "Nivel de significancia, alpha = 0.05 (5%)."
      ],
      "metadata": {
        "id": "bhqhgaEwF7FA"
      }
    },
    {
      "cell_type": "markdown",
      "source": [
        "###3. RODANDO O TESTE"
      ],
      "metadata": {
        "id": "7T0t-9qJGrlr"
      }
    },
    {
      "cell_type": "code",
      "source": [
        "# vamos rodar o teste utilizando a função chi2_contingency() do pacote SciPy\n",
        "from scipy.stats import chi2_contingency\n",
        "from scipy.stats import chi2\n",
        "\n",
        "estatistica, pvalor, df, expected = chi2_contingency(table)\n",
        "\n",
        "alpha = 0.05\n",
        "\n",
        "print(pvalor)\n",
        "if pvalor <= alpha:\n",
        "    print('Dependentes (rejeita H0)')\n",
        "else:\n",
        "    print('Independentes (nao rejeita H0)')"
      ],
      "metadata": {
        "colab": {
          "base_uri": "https://localhost:8080/"
        },
        "id": "20Q385MBFzsu",
        "outputId": "bedfaa3e-e4b7-434a-d973-c3306b12a182"
      },
      "execution_count": null,
      "outputs": [
        {
          "output_type": "stream",
          "name": "stdout",
          "text": [
            "0.9267147440706386\n",
            "Independentes (nao rejeita H0)\n"
          ]
        }
      ]
    },
    {
      "cell_type": "markdown",
      "source": [
        "## TESTE ANOVA"
      ],
      "metadata": {
        "id": "3YI3WhKeGulG"
      }
    },
    {
      "cell_type": "markdown",
      "source": [
        "Vamos realizar um teste ANOVA para média de idade de diferentes regioes de clientes de determinada rede de farmácias"
      ],
      "metadata": {
        "id": "4pwZ48rDG9OU"
      }
    },
    {
      "cell_type": "code",
      "source": [
        "### GERANDO OS DADOS\n",
        "import scipy.stats as stats\n",
        "\n",
        "np.random.seed(12)\n",
        "\n",
        "regioes =   [\"sul\",\"sudeste\",\"centro_oeste\",\"norte\",\"nordeste\"]\n",
        "\n",
        "# gerando dados aleatorios com python\n",
        "consum_reg = np.random.choice(a= regioes,\n",
        "                              p = [0.05, 0.15 ,0.25, 0.05, 0.5],\n",
        "                              size=1000)\n",
        "\n",
        "consum_idade = stats.poisson.rvs(loc=18,\n",
        "                              mu=30,\n",
        "                              size=1000)"
      ],
      "metadata": {
        "id": "4ByGcrR1HNcU"
      },
      "execution_count": null,
      "outputs": []
    },
    {
      "cell_type": "code",
      "source": [
        "# agrupando os dados por regiao\n",
        "consum_frame = pd.DataFrame({\"reg\":consum_reg,\"idade\":consum_idade})\n",
        "groupos = consum_frame.groupby(\"reg\").groups\n",
        "\n",
        "# extraindo a idade de cada um dos grupos\n",
        "sul = consum_idade[groupos[\"sul\"]]\n",
        "sudeste = consum_idade[groupos[\"sudeste\"]]\n",
        "centro_oeste = consum_idade[groupos[\"centro_oeste\"]]\n",
        "norte = consum_idade[groupos[\"norte\"]]\n",
        "nordeste = consum_idade[groupos[\"nordeste\"]]\n",
        "\n",
        "# Perform the ANOVA\n",
        "stats.f_oneway(sul, sudeste, centro_oeste, norte, nordeste)"
      ],
      "metadata": {
        "colab": {
          "base_uri": "https://localhost:8080/"
        },
        "id": "9SHrIgBTGWPz",
        "outputId": "dce61b87-616c-48a2-a738-cc816f176c45"
      },
      "execution_count": null,
      "outputs": [
        {
          "output_type": "execute_result",
          "data": {
            "text/plain": [
              "F_onewayResult(statistic=1.7744689357329695, pvalue=0.13173183201930463)"
            ]
          },
          "metadata": {},
          "execution_count": 8
        }
      ]
    },
    {
      "cell_type": "code",
      "source": [
        "consum_frame"
      ],
      "metadata": {
        "colab": {
          "base_uri": "https://localhost:8080/",
          "height": 424
        },
        "id": "CDYM7EEf5g8B",
        "outputId": "7425b832-423d-4619-91fb-85b82f411559"
      },
      "execution_count": null,
      "outputs": [
        {
          "output_type": "execute_result",
          "data": {
            "text/plain": [
              "              reg  idade\n",
              "0         sudeste     51\n",
              "1        nordeste     49\n",
              "2    centro_oeste     51\n",
              "3        nordeste     48\n",
              "4             sul     56\n",
              "..            ...    ...\n",
              "995      nordeste     47\n",
              "996           sul     40\n",
              "997      nordeste     50\n",
              "998      nordeste     51\n",
              "999  centro_oeste     43\n",
              "\n",
              "[1000 rows x 2 columns]"
            ],
            "text/html": [
              "\n",
              "  <div id=\"df-2dda4064-406a-4ac2-a63a-e1f06d8fd64a\" class=\"colab-df-container\">\n",
              "    <div>\n",
              "<style scoped>\n",
              "    .dataframe tbody tr th:only-of-type {\n",
              "        vertical-align: middle;\n",
              "    }\n",
              "\n",
              "    .dataframe tbody tr th {\n",
              "        vertical-align: top;\n",
              "    }\n",
              "\n",
              "    .dataframe thead th {\n",
              "        text-align: right;\n",
              "    }\n",
              "</style>\n",
              "<table border=\"1\" class=\"dataframe\">\n",
              "  <thead>\n",
              "    <tr style=\"text-align: right;\">\n",
              "      <th></th>\n",
              "      <th>reg</th>\n",
              "      <th>idade</th>\n",
              "    </tr>\n",
              "  </thead>\n",
              "  <tbody>\n",
              "    <tr>\n",
              "      <th>0</th>\n",
              "      <td>sudeste</td>\n",
              "      <td>51</td>\n",
              "    </tr>\n",
              "    <tr>\n",
              "      <th>1</th>\n",
              "      <td>nordeste</td>\n",
              "      <td>49</td>\n",
              "    </tr>\n",
              "    <tr>\n",
              "      <th>2</th>\n",
              "      <td>centro_oeste</td>\n",
              "      <td>51</td>\n",
              "    </tr>\n",
              "    <tr>\n",
              "      <th>3</th>\n",
              "      <td>nordeste</td>\n",
              "      <td>48</td>\n",
              "    </tr>\n",
              "    <tr>\n",
              "      <th>4</th>\n",
              "      <td>sul</td>\n",
              "      <td>56</td>\n",
              "    </tr>\n",
              "    <tr>\n",
              "      <th>...</th>\n",
              "      <td>...</td>\n",
              "      <td>...</td>\n",
              "    </tr>\n",
              "    <tr>\n",
              "      <th>995</th>\n",
              "      <td>nordeste</td>\n",
              "      <td>47</td>\n",
              "    </tr>\n",
              "    <tr>\n",
              "      <th>996</th>\n",
              "      <td>sul</td>\n",
              "      <td>40</td>\n",
              "    </tr>\n",
              "    <tr>\n",
              "      <th>997</th>\n",
              "      <td>nordeste</td>\n",
              "      <td>50</td>\n",
              "    </tr>\n",
              "    <tr>\n",
              "      <th>998</th>\n",
              "      <td>nordeste</td>\n",
              "      <td>51</td>\n",
              "    </tr>\n",
              "    <tr>\n",
              "      <th>999</th>\n",
              "      <td>centro_oeste</td>\n",
              "      <td>43</td>\n",
              "    </tr>\n",
              "  </tbody>\n",
              "</table>\n",
              "<p>1000 rows × 2 columns</p>\n",
              "</div>\n",
              "    <div class=\"colab-df-buttons\">\n",
              "\n",
              "  <div class=\"colab-df-container\">\n",
              "    <button class=\"colab-df-convert\" onclick=\"convertToInteractive('df-2dda4064-406a-4ac2-a63a-e1f06d8fd64a')\"\n",
              "            title=\"Convert this dataframe to an interactive table.\"\n",
              "            style=\"display:none;\">\n",
              "\n",
              "  <svg xmlns=\"http://www.w3.org/2000/svg\" height=\"24px\" viewBox=\"0 -960 960 960\">\n",
              "    <path d=\"M120-120v-720h720v720H120Zm60-500h600v-160H180v160Zm220 220h160v-160H400v160Zm0 220h160v-160H400v160ZM180-400h160v-160H180v160Zm440 0h160v-160H620v160ZM180-180h160v-160H180v160Zm440 0h160v-160H620v160Z\"/>\n",
              "  </svg>\n",
              "    </button>\n",
              "\n",
              "  <style>\n",
              "    .colab-df-container {\n",
              "      display:flex;\n",
              "      gap: 12px;\n",
              "    }\n",
              "\n",
              "    .colab-df-convert {\n",
              "      background-color: #E8F0FE;\n",
              "      border: none;\n",
              "      border-radius: 50%;\n",
              "      cursor: pointer;\n",
              "      display: none;\n",
              "      fill: #1967D2;\n",
              "      height: 32px;\n",
              "      padding: 0 0 0 0;\n",
              "      width: 32px;\n",
              "    }\n",
              "\n",
              "    .colab-df-convert:hover {\n",
              "      background-color: #E2EBFA;\n",
              "      box-shadow: 0px 1px 2px rgba(60, 64, 67, 0.3), 0px 1px 3px 1px rgba(60, 64, 67, 0.15);\n",
              "      fill: #174EA6;\n",
              "    }\n",
              "\n",
              "    .colab-df-buttons div {\n",
              "      margin-bottom: 4px;\n",
              "    }\n",
              "\n",
              "    [theme=dark] .colab-df-convert {\n",
              "      background-color: #3B4455;\n",
              "      fill: #D2E3FC;\n",
              "    }\n",
              "\n",
              "    [theme=dark] .colab-df-convert:hover {\n",
              "      background-color: #434B5C;\n",
              "      box-shadow: 0px 1px 3px 1px rgba(0, 0, 0, 0.15);\n",
              "      filter: drop-shadow(0px 1px 2px rgba(0, 0, 0, 0.3));\n",
              "      fill: #FFFFFF;\n",
              "    }\n",
              "  </style>\n",
              "\n",
              "    <script>\n",
              "      const buttonEl =\n",
              "        document.querySelector('#df-2dda4064-406a-4ac2-a63a-e1f06d8fd64a button.colab-df-convert');\n",
              "      buttonEl.style.display =\n",
              "        google.colab.kernel.accessAllowed ? 'block' : 'none';\n",
              "\n",
              "      async function convertToInteractive(key) {\n",
              "        const element = document.querySelector('#df-2dda4064-406a-4ac2-a63a-e1f06d8fd64a');\n",
              "        const dataTable =\n",
              "          await google.colab.kernel.invokeFunction('convertToInteractive',\n",
              "                                                    [key], {});\n",
              "        if (!dataTable) return;\n",
              "\n",
              "        const docLinkHtml = 'Like what you see? Visit the ' +\n",
              "          '<a target=\"_blank\" href=https://colab.research.google.com/notebooks/data_table.ipynb>data table notebook</a>'\n",
              "          + ' to learn more about interactive tables.';\n",
              "        element.innerHTML = '';\n",
              "        dataTable['output_type'] = 'display_data';\n",
              "        await google.colab.output.renderOutput(dataTable, element);\n",
              "        const docLink = document.createElement('div');\n",
              "        docLink.innerHTML = docLinkHtml;\n",
              "        element.appendChild(docLink);\n",
              "      }\n",
              "    </script>\n",
              "  </div>\n",
              "\n",
              "\n",
              "<div id=\"df-73f1ad3f-6e45-4b00-b2e6-7284470f8556\">\n",
              "  <button class=\"colab-df-quickchart\" onclick=\"quickchart('df-73f1ad3f-6e45-4b00-b2e6-7284470f8556')\"\n",
              "            title=\"Suggest charts\"\n",
              "            style=\"display:none;\">\n",
              "\n",
              "<svg xmlns=\"http://www.w3.org/2000/svg\" height=\"24px\"viewBox=\"0 0 24 24\"\n",
              "     width=\"24px\">\n",
              "    <g>\n",
              "        <path d=\"M19 3H5c-1.1 0-2 .9-2 2v14c0 1.1.9 2 2 2h14c1.1 0 2-.9 2-2V5c0-1.1-.9-2-2-2zM9 17H7v-7h2v7zm4 0h-2V7h2v10zm4 0h-2v-4h2v4z\"/>\n",
              "    </g>\n",
              "</svg>\n",
              "  </button>\n",
              "\n",
              "<style>\n",
              "  .colab-df-quickchart {\n",
              "      --bg-color: #E8F0FE;\n",
              "      --fill-color: #1967D2;\n",
              "      --hover-bg-color: #E2EBFA;\n",
              "      --hover-fill-color: #174EA6;\n",
              "      --disabled-fill-color: #AAA;\n",
              "      --disabled-bg-color: #DDD;\n",
              "  }\n",
              "\n",
              "  [theme=dark] .colab-df-quickchart {\n",
              "      --bg-color: #3B4455;\n",
              "      --fill-color: #D2E3FC;\n",
              "      --hover-bg-color: #434B5C;\n",
              "      --hover-fill-color: #FFFFFF;\n",
              "      --disabled-bg-color: #3B4455;\n",
              "      --disabled-fill-color: #666;\n",
              "  }\n",
              "\n",
              "  .colab-df-quickchart {\n",
              "    background-color: var(--bg-color);\n",
              "    border: none;\n",
              "    border-radius: 50%;\n",
              "    cursor: pointer;\n",
              "    display: none;\n",
              "    fill: var(--fill-color);\n",
              "    height: 32px;\n",
              "    padding: 0;\n",
              "    width: 32px;\n",
              "  }\n",
              "\n",
              "  .colab-df-quickchart:hover {\n",
              "    background-color: var(--hover-bg-color);\n",
              "    box-shadow: 0 1px 2px rgba(60, 64, 67, 0.3), 0 1px 3px 1px rgba(60, 64, 67, 0.15);\n",
              "    fill: var(--button-hover-fill-color);\n",
              "  }\n",
              "\n",
              "  .colab-df-quickchart-complete:disabled,\n",
              "  .colab-df-quickchart-complete:disabled:hover {\n",
              "    background-color: var(--disabled-bg-color);\n",
              "    fill: var(--disabled-fill-color);\n",
              "    box-shadow: none;\n",
              "  }\n",
              "\n",
              "  .colab-df-spinner {\n",
              "    border: 2px solid var(--fill-color);\n",
              "    border-color: transparent;\n",
              "    border-bottom-color: var(--fill-color);\n",
              "    animation:\n",
              "      spin 1s steps(1) infinite;\n",
              "  }\n",
              "\n",
              "  @keyframes spin {\n",
              "    0% {\n",
              "      border-color: transparent;\n",
              "      border-bottom-color: var(--fill-color);\n",
              "      border-left-color: var(--fill-color);\n",
              "    }\n",
              "    20% {\n",
              "      border-color: transparent;\n",
              "      border-left-color: var(--fill-color);\n",
              "      border-top-color: var(--fill-color);\n",
              "    }\n",
              "    30% {\n",
              "      border-color: transparent;\n",
              "      border-left-color: var(--fill-color);\n",
              "      border-top-color: var(--fill-color);\n",
              "      border-right-color: var(--fill-color);\n",
              "    }\n",
              "    40% {\n",
              "      border-color: transparent;\n",
              "      border-right-color: var(--fill-color);\n",
              "      border-top-color: var(--fill-color);\n",
              "    }\n",
              "    60% {\n",
              "      border-color: transparent;\n",
              "      border-right-color: var(--fill-color);\n",
              "    }\n",
              "    80% {\n",
              "      border-color: transparent;\n",
              "      border-right-color: var(--fill-color);\n",
              "      border-bottom-color: var(--fill-color);\n",
              "    }\n",
              "    90% {\n",
              "      border-color: transparent;\n",
              "      border-bottom-color: var(--fill-color);\n",
              "    }\n",
              "  }\n",
              "</style>\n",
              "\n",
              "  <script>\n",
              "    async function quickchart(key) {\n",
              "      const quickchartButtonEl =\n",
              "        document.querySelector('#' + key + ' button');\n",
              "      quickchartButtonEl.disabled = true;  // To prevent multiple clicks.\n",
              "      quickchartButtonEl.classList.add('colab-df-spinner');\n",
              "      try {\n",
              "        const charts = await google.colab.kernel.invokeFunction(\n",
              "            'suggestCharts', [key], {});\n",
              "      } catch (error) {\n",
              "        console.error('Error during call to suggestCharts:', error);\n",
              "      }\n",
              "      quickchartButtonEl.classList.remove('colab-df-spinner');\n",
              "      quickchartButtonEl.classList.add('colab-df-quickchart-complete');\n",
              "    }\n",
              "    (() => {\n",
              "      let quickchartButtonEl =\n",
              "        document.querySelector('#df-73f1ad3f-6e45-4b00-b2e6-7284470f8556 button');\n",
              "      quickchartButtonEl.style.display =\n",
              "        google.colab.kernel.accessAllowed ? 'block' : 'none';\n",
              "    })();\n",
              "  </script>\n",
              "</div>\n",
              "\n",
              "  <div id=\"id_eb5c2abe-568b-4a63-88d4-5da3ceb21d21\">\n",
              "    <style>\n",
              "      .colab-df-generate {\n",
              "        background-color: #E8F0FE;\n",
              "        border: none;\n",
              "        border-radius: 50%;\n",
              "        cursor: pointer;\n",
              "        display: none;\n",
              "        fill: #1967D2;\n",
              "        height: 32px;\n",
              "        padding: 0 0 0 0;\n",
              "        width: 32px;\n",
              "      }\n",
              "\n",
              "      .colab-df-generate:hover {\n",
              "        background-color: #E2EBFA;\n",
              "        box-shadow: 0px 1px 2px rgba(60, 64, 67, 0.3), 0px 1px 3px 1px rgba(60, 64, 67, 0.15);\n",
              "        fill: #174EA6;\n",
              "      }\n",
              "\n",
              "      [theme=dark] .colab-df-generate {\n",
              "        background-color: #3B4455;\n",
              "        fill: #D2E3FC;\n",
              "      }\n",
              "\n",
              "      [theme=dark] .colab-df-generate:hover {\n",
              "        background-color: #434B5C;\n",
              "        box-shadow: 0px 1px 3px 1px rgba(0, 0, 0, 0.15);\n",
              "        filter: drop-shadow(0px 1px 2px rgba(0, 0, 0, 0.3));\n",
              "        fill: #FFFFFF;\n",
              "      }\n",
              "    </style>\n",
              "    <button class=\"colab-df-generate\" onclick=\"generateWithVariable('consum_frame')\"\n",
              "            title=\"Generate code using this dataframe.\"\n",
              "            style=\"display:none;\">\n",
              "\n",
              "  <svg xmlns=\"http://www.w3.org/2000/svg\" height=\"24px\"viewBox=\"0 0 24 24\"\n",
              "       width=\"24px\">\n",
              "    <path d=\"M7,19H8.4L18.45,9,17,7.55,7,17.6ZM5,21V16.75L18.45,3.32a2,2,0,0,1,2.83,0l1.4,1.43a1.91,1.91,0,0,1,.58,1.4,1.91,1.91,0,0,1-.58,1.4L9.25,21ZM18.45,9,17,7.55Zm-12,3A5.31,5.31,0,0,0,4.9,8.1,5.31,5.31,0,0,0,1,6.5,5.31,5.31,0,0,0,4.9,4.9,5.31,5.31,0,0,0,6.5,1,5.31,5.31,0,0,0,8.1,4.9,5.31,5.31,0,0,0,12,6.5,5.46,5.46,0,0,0,6.5,12Z\"/>\n",
              "  </svg>\n",
              "    </button>\n",
              "    <script>\n",
              "      (() => {\n",
              "      const buttonEl =\n",
              "        document.querySelector('#id_eb5c2abe-568b-4a63-88d4-5da3ceb21d21 button.colab-df-generate');\n",
              "      buttonEl.style.display =\n",
              "        google.colab.kernel.accessAllowed ? 'block' : 'none';\n",
              "\n",
              "      buttonEl.onclick = () => {\n",
              "        google.colab.notebook.generateWithVariable('consum_frame');\n",
              "      }\n",
              "      })();\n",
              "    </script>\n",
              "  </div>\n",
              "\n",
              "    </div>\n",
              "  </div>\n"
            ],
            "application/vnd.google.colaboratory.intrinsic+json": {
              "type": "dataframe",
              "variable_name": "consum_frame",
              "summary": "{\n  \"name\": \"consum_frame\",\n  \"rows\": 1000,\n  \"fields\": [\n    {\n      \"column\": \"reg\",\n      \"properties\": {\n        \"dtype\": \"category\",\n        \"num_unique_values\": 5,\n        \"samples\": [\n          \"nordeste\",\n          \"norte\",\n          \"centro_oeste\"\n        ],\n        \"semantic_type\": \"\",\n        \"description\": \"\"\n      }\n    },\n    {\n      \"column\": \"idade\",\n      \"properties\": {\n        \"dtype\": \"number\",\n        \"std\": 5,\n        \"min\": 34,\n        \"max\": 66,\n        \"num_unique_values\": 31,\n        \"samples\": [\n          38,\n          44,\n          41\n        ],\n        \"semantic_type\": \"\",\n        \"description\": \"\"\n      }\n    }\n  ]\n}"
            }
          },
          "metadata": {},
          "execution_count": 9
        }
      ]
    },
    {
      "cell_type": "markdown",
      "source": [
        "Como o hipotese nula do teste é de que nao ha diferenca entre os grupos,\n",
        "como o p-valor é maior que 0.05 nao podemos rejeitar H0, e entao nao há diferenca entre os grupos estatisticamente diferente"
      ],
      "metadata": {
        "id": "jw8c1ItkIfPd"
      }
    },
    {
      "cell_type": "markdown",
      "source": [
        "## TESTE KS"
      ],
      "metadata": {
        "id": "8Ykkp1HbJG_9"
      }
    },
    {
      "cell_type": "code",
      "source": [
        "# Generando 10000 pontos de uma distribuicao normal\n",
        "rvs = stats.norm.rvs(size=10000)\n",
        "sns.set_style('whitegrid')\n",
        "# sns.kdeplot(rvs)\n",
        "sns.distplot(rvs).set_title(\"Exemplo: Distribuiçao Normal\")\n",
        "plt.show()"
      ],
      "metadata": {
        "colab": {
          "base_uri": "https://localhost:8080/",
          "height": 654
        },
        "id": "Jk4l9lSNJGcj",
        "outputId": "0b39871d-7b14-4c9b-a030-63a4535b17b7"
      },
      "execution_count": null,
      "outputs": [
        {
          "output_type": "stream",
          "name": "stderr",
          "text": [
            "<ipython-input-10-bd67540a65d6>:5: UserWarning: \n",
            "\n",
            "`distplot` is a deprecated function and will be removed in seaborn v0.14.0.\n",
            "\n",
            "Please adapt your code to use either `displot` (a figure-level function with\n",
            "similar flexibility) or `histplot` (an axes-level function for histograms).\n",
            "\n",
            "For a guide to updating your code to use the new functions, please see\n",
            "https://gist.github.com/mwaskom/de44147ed2974457ad6372750bbe5751\n",
            "\n",
            "  sns.distplot(rvs).set_title(\"Exemplo: Distribuiçao Normal\")\n"
          ]
        },
        {
          "output_type": "display_data",
          "data": {
            "text/plain": [
              "<Figure size 640x480 with 1 Axes>"
            ],
            "image/png": "[encoded data removed]"
          },
          "metadata": {}
        }
      ]
    },
    {
      "cell_type": "markdown",
      "source": [
        "Rodando um teste KS para comparar os dados gerados com uma distribuição normal com o teste KS"
      ],
      "metadata": {
        "id": "FFjFvLI_JnhN"
      }
    },
    {
      "cell_type": "code",
      "source": [
        "stats.kstest(rvs=rvs, cdf='norm')"
      ],
      "metadata": {
        "colab": {
          "base_uri": "https://localhost:8080/"
        },
        "id": "MjjtIFmmJcfC",
        "outputId": "cec2370d-ff18-4b35-c89d-cc91cc0f61c2"
      },
      "execution_count": null,
      "outputs": [
        {
          "output_type": "execute_result",
          "data": {
            "text/plain": [
              "KstestResult(statistic=0.005428053253586029, pvalue=0.9282715152505315, statistic_location=-0.10453613535027459, statistic_sign=1)"
            ]
          },
          "metadata": {},
          "execution_count": 11
        }
      ]
    },
    {
      "cell_type": "markdown",
      "source": [
        "A hipótese nula do teste é de que a distribuição dos dados segue a mesma da distribuição de referencia.\n",
        "\n",
        "Sendo assim como o pvalor é maior que 0.05, temos para um nivel de significancia de 5%, nao podemos rejeitar a hipotese nula\n",
        "\n",
        "### Vamos rodar o mesmo teste agora para a variável idade gerada com a distribuicao de poisson no teste anterior"
      ],
      "metadata": {
        "id": "wC5wlaTpJtXM"
      }
    },
    {
      "cell_type": "code",
      "source": [
        "### gerando a variavel idade com a distribuicao de poisson\n",
        "consum_idade = stats.poisson.rvs(loc=18,\n",
        "                              mu=30,\n",
        "                              size=15)\n",
        "sns.distplot(consum_idade).set_title(\"Exemplo: Distribuiçao idade, poisson\")\n",
        "plt.show()"
      ],
      "metadata": {
        "colab": {
          "base_uri": "https://localhost:8080/",
          "height": 643
        },
        "id": "nDsyVOB7Jsnn",
        "outputId": "06033d6f-087e-418c-d791-9b3d761dd0d7"
      },
      "execution_count": null,
      "outputs": [
        {
          "output_type": "stream",
          "name": "stderr",
          "text": [
            "<ipython-input-43-082d4e08e3f7>:5: UserWarning: \n",
            "\n",
            "`distplot` is a deprecated function and will be removed in seaborn v0.14.0.\n",
            "\n",
            "Please adapt your code to use either `displot` (a figure-level function with\n",
            "similar flexibility) or `histplot` (an axes-level function for histograms).\n",
            "\n",
            "For a guide to updating your code to use the new functions, please see\n",
            "https://gist.github.com/mwaskom/de44147ed2974457ad6372750bbe5751\n",
            "\n",
            "  sns.distplot(consum_idade).set_title(\"Exemplo: Distribuiçao idade, poisson\")\n"
          ]
        },
        {
          "output_type": "display_data",
          "data": {
            "text/plain": [
              "<Figure size 640x480 with 1 Axes>"
            ],
            "image/png": "[encoded data removed]"
          },
          "metadata": {}
        }
      ]
    },
    {
      "cell_type": "code",
      "source": [
        "### roda o teste ks\n",
        "stats.kstest(rvs=consum_idade, cdf='norm')"
      ],
      "metadata": {
        "colab": {
          "base_uri": "https://localhost:8080/"
        },
        "id": "mRe6z02wKFbn",
        "outputId": "2f978d9c-1a0d-466a-a499-9e0801cd5347"
      },
      "execution_count": null,
      "outputs": [
        {
          "output_type": "execute_result",
          "data": {
            "text/plain": [
              "KstestResult(statistic=1.0, pvalue=0.0, statistic_location=40, statistic_sign=-1)"
            ]
          },
          "metadata": {},
          "execution_count": 44
        }
      ]
    },
    {
      "cell_type": "markdown",
      "source": [
        " hipótese nula do teste é de que a distribuição dos dados segue a mesma da distribuição de referencia.\n",
        "\n",
        "Sendo assim como o pvalor é menor que 0.05, temos para um nivel de significancia de 5%, rejeitamos a hipotese nula, e o dado nao segue a distribuicao normal pelo teste"
      ],
      "metadata": {
        "id": "7Qc36KfKKd90"
      }
    },
    {
      "cell_type": "markdown",
      "source": [
        "### QQ PLOTS"
      ],
      "metadata": {
        "id": "GreDYEqhKkYS"
      }
    },
    {
      "cell_type": "code",
      "source": [
        "import statsmodels.api as sm\n",
        "\n",
        "sm.qqplot(consum_idade)\n",
        "plt.title(\"QQ PLOT - Idade\")\n",
        "plt.show()"
      ],
      "metadata": {
        "colab": {
          "base_uri": "https://localhost:8080/",
          "height": 472
        },
        "id": "IlKMLpZbKUA1",
        "outputId": "4f69d02c-da10-4de0-b689-f3ffe463ba08"
      },
      "execution_count": null,
      "outputs": [
        {
          "output_type": "display_data",
          "data": {
            "text/plain": [
              "<Figure size 640x480 with 1 Axes>"
            ],
            "image/png": "[encoded data removed]"
          },
          "metadata": {}
        }
      ]
    },
    {
      "cell_type": "code",
      "source": [
        "sm.qqplot(rvs)\n",
        "plt.title(\"QQ PLOT - Normal\")\n",
        "plt.show()"
      ],
      "metadata": {
        "colab": {
          "base_uri": "https://localhost:8080/",
          "height": 472
        },
        "id": "M8Kh7fcyKsbS",
        "outputId": "466cec0a-7826-4fd9-df69-d6daa01f23ea"
      },
      "execution_count": null,
      "outputs": [
        {
          "output_type": "display_data",
          "data": {
            "text/plain": [
              "<Figure size 640x480 with 1 Axes>"
            ],
            "image/png": "[encoded data removed]"
          },
          "metadata": {}
        }
      ]
    }
  ]
}