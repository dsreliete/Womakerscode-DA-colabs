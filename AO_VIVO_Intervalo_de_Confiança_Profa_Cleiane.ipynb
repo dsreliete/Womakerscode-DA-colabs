{
  "nbformat": 4,
  "nbformat_minor": 0,
  "metadata": {
    "colab": {
      "provenance": [],
      "include_colab_link": true
    },
    "kernelspec": {
      "name": "python3",
      "display_name": "Python 3"
    },
    "language_info": {
      "name": "python"
    }
  },
  "cells": [
    {
      "cell_type": "markdown",
      "metadata": {
        "id": "view-in-github",
        "colab_type": "text"
      },
      "source": [
        "<a href=\"https://colab.research.google.com/github/dsreliete/Womakerscode-DA-colabs/blob/main/AO_VIVO_Intervalo_de_Confian%C3%A7a_Profa_Cleiane.ipynb\" target=\"_parent\"><img src=\"https://colab.research.google.com/assets/colab-badge.svg\" alt=\"Open In Colab\"/></a>"
      ]
    },
    {
      "cell_type": "code",
      "execution_count": null,
      "metadata": {
        "id": "UgwVDlVkwQcW"
      },
      "outputs": [],
      "source": [
        "#importação dos dados a partir de um documento compartilhado via google drive\n",
        "#fonte de dados: https://archive.ics.uci.edu/ml/datasets/student+performance\n",
        "import pandas as pd\n",
        "url='https://drive.google.com/file/d/15d-wDAC5aaoEbLbROe1mYs3EfYReeLsI/view?usp=share_link'\n",
        "url='https://drive.google.com/uc?id=' + url.split('/')[-2]\n",
        "df = pd.read_csv(url,sep=';')"
      ]
    },
    {
      "cell_type": "code",
      "source": [
        "#visualiza os tipos de dados de cada coluna\n",
        "df.info()"
      ],
      "metadata": {
        "colab": {
          "base_uri": "https://localhost:8080/"
        },
        "id": "s-0Xnxao5pyU",
        "outputId": "d422c0a1-5395-4818-b32a-8093717394a2"
      },
      "execution_count": null,
      "outputs": [
        {
          "output_type": "stream",
          "name": "stdout",
          "text": [
            "<class 'pandas.core.frame.DataFrame'>\n",
            "RangeIndex: 395 entries, 0 to 394\n",
            "Data columns (total 33 columns):\n",
            " #   Column      Non-Null Count  Dtype \n",
            "---  ------      --------------  ----- \n",
            " 0   school      395 non-null    object\n",
            " 1   sex         395 non-null    object\n",
            " 2   age         395 non-null    int64 \n",
            " 3   address     395 non-null    object\n",
            " 4   famsize     395 non-null    object\n",
            " 5   Pstatus     395 non-null    object\n",
            " 6   Medu        395 non-null    int64 \n",
            " 7   Fedu        395 non-null    int64 \n",
            " 8   Mjob        395 non-null    object\n",
            " 9   Fjob        395 non-null    object\n",
            " 10  reason      395 non-null    object\n",
            " 11  guardian    395 non-null    object\n",
            " 12  traveltime  395 non-null    int64 \n",
            " 13  studytime   395 non-null    int64 \n",
            " 14  failures    395 non-null    int64 \n",
            " 15  schoolsup   395 non-null    object\n",
            " 16  famsup      395 non-null    object\n",
            " 17  paid        395 non-null    object\n",
            " 18  activities  395 non-null    object\n",
            " 19  nursery     395 non-null    object\n",
            " 20  higher      395 non-null    object\n",
            " 21  internet    395 non-null    object\n",
            " 22  romantic    395 non-null    object\n",
            " 23  famrel      395 non-null    int64 \n",
            " 24  freetime    395 non-null    int64 \n",
            " 25  goout       395 non-null    int64 \n",
            " 26  Dalc        395 non-null    int64 \n",
            " 27  Walc        395 non-null    int64 \n",
            " 28  health      395 non-null    int64 \n",
            " 29  absences    395 non-null    int64 \n",
            " 30  G1          395 non-null    int64 \n",
            " 31  G2          395 non-null    int64 \n",
            " 32  G3          395 non-null    int64 \n",
            "dtypes: int64(16), object(17)\n",
            "memory usage: 102.0+ KB\n"
          ]
        }
      ]
    },
    {
      "cell_type": "code",
      "source": [
        "df.age.describe()"
      ],
      "metadata": {
        "colab": {
          "base_uri": "https://localhost:8080/"
        },
        "id": "HQuiahNZ5sfC",
        "outputId": "03d08d9b-bb3d-4448-f6a0-4a54ca24a17f"
      },
      "execution_count": null,
      "outputs": [
        {
          "output_type": "execute_result",
          "data": {
            "text/plain": [
              "count    395.000000\n",
              "mean      16.696203\n",
              "std        1.276043\n",
              "min       15.000000\n",
              "25%       16.000000\n",
              "50%       17.000000\n",
              "75%       18.000000\n",
              "max       22.000000\n",
              "Name: age, dtype: float64"
            ]
          },
          "metadata": {},
          "execution_count": 12
        }
      ]
    },
    {
      "cell_type": "markdown",
      "source": [
        "#Intervalo de confiança para médias"
      ],
      "metadata": {
        "id": "rZFt4ri26VW5"
      }
    },
    {
      "cell_type": "code",
      "source": [
        "import numpy as np\n",
        "import scipy.stats as st\n"
      ],
      "metadata": {
        "id": "pYacuXEC6RpK"
      },
      "execution_count": null,
      "outputs": []
    },
    {
      "cell_type": "code",
      "source": [
        "desviopadrao = df.age.std()\n",
        "media = df.age.mean()"
      ],
      "metadata": {
        "id": "CuhjjnwZ6Z7O"
      },
      "execution_count": null,
      "outputs": []
    },
    {
      "cell_type": "code",
      "source": [
        "conf_int = st.norm.interval(0.95, loc=media, scale=desviopadrao)\n",
        "print(f\"media: {media:,.2f}\")\n",
        "print(\"intervalo de confiança: \")\n",
        "print(conf_int)"
      ],
      "metadata": {
        "colab": {
          "base_uri": "https://localhost:8080/"
        },
        "id": "JHV0O5Gs6w6z",
        "outputId": "51b58312-1efd-45c0-b898-76462a1cc5b6"
      },
      "execution_count": null,
      "outputs": [
        {
          "output_type": "stream",
          "name": "stdout",
          "text": [
            "media: 16.70\n",
            "intervalo de confiança: \n",
            "(14.195204748684173, 19.197200314606963)\n"
          ]
        }
      ]
    },
    {
      "cell_type": "markdown",
      "source": [
        "#Intervalo de confiança para proporção"
      ],
      "metadata": {
        "id": "SXE80vfQ-giU"
      }
    },
    {
      "cell_type": "code",
      "source": [
        "from statsmodels.stats.proportion import proportion_confint\n",
        "mulheres = df[df['sex']=='F'].sex.count()\n",
        "total = df.sex.count()"
      ],
      "metadata": {
        "id": "W1EUeF1F-9IX"
      },
      "execution_count": null,
      "outputs": []
    },
    {
      "cell_type": "code",
      "source": [
        "a,b = proportion_confint(count=mulheres, # número de sucessos\n",
        "                   nobs=total, # numero da amostra\n",
        "                   alpha=(1 - 0.95))"
      ],
      "metadata": {
        "id": "fscfoF17-jSA"
      },
      "execution_count": null,
      "outputs": []
    },
    {
      "cell_type": "code",
      "source": [
        "print(f\"A proporção de mulheres é de {((mulheres/total)*100):,.2f}% com 95% de confiança no intervalo entre {a*100:,.2f}% e  {b*100:,.2f}%  \")"
      ],
      "metadata": {
        "colab": {
          "base_uri": "https://localhost:8080/"
        },
        "id": "K5cRIX6SABr-",
        "outputId": "f1874298-1714-471e-e4ef-c1000786d753"
      },
      "execution_count": null,
      "outputs": [
        {
          "output_type": "stream",
          "name": "stdout",
          "text": [
            "A proporção de mulheres é de 52.66% com 95% de confiança no intervalo entre 47.73% e  57.58%  \n"
          ]
        }
      ]
    }
  ]
}